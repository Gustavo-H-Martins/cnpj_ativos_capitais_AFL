{
 "cells": [
  {
   "cell_type": "code",
   "execution_count": 1,
   "metadata": {},
   "outputs": [
    {
     "name": "stdout",
     "output_type": "stream",
     "text": [
      "<class 'pandas.core.frame.DataFrame'>\n",
      "RangeIndex: 2224373 entries, 0 to 2224372\n",
      "Data columns (total 7 columns):\n",
      " #   Column         Dtype \n",
      "---  ------         ----- \n",
      " 0   codigo_ibge    int64 \n",
      " 1   categoria      int64 \n",
      " 2   cod_cnae       int64 \n",
      " 3   ano_atividade  object\n",
      " 4   cod_uf         int64 \n",
      " 5   ativas         int64 \n",
      " 6   mei            int64 \n",
      "dtypes: int64(6), object(1)\n",
      "memory usage: 118.8+ MB\n"
     ]
    }
   ],
   "source": [
    "import pandas as pd\n",
    "\n",
    "caminho  = r'TODOSCNPJATIVOS.csv'\n",
    "\n",
    "dados = pd.read_csv(caminho)\n",
    "\n",
    "dados.info()"
   ]
  },
  {
   "cell_type": "code",
   "execution_count": 4,
   "metadata": {},
   "outputs": [
    {
     "data": {
      "text/plain": [
       "array(['2022-03-01', '2022-04-01', '2020-09-01', '2020-10-01',\n",
       "       '2022-10-01', '2017-09-01', '2017-10-01', '2019-02-01',\n",
       "       '2019-03-01', '2017-01-01', '2017-02-01', '2022-08-01',\n",
       "       '2022-09-01', '2017-07-01', '2017-08-01', '2019-07-01',\n",
       "       '2019-08-01', '2019-04-01', '2018-04-01', '2018-05-01',\n",
       "       '2021-11-01', '2021-12-01', '2021-08-01', '2021-09-01',\n",
       "       '2020-11-01', '2020-02-01', '2020-03-01', '2020-01-01',\n",
       "       '2022-07-01', '2021-10-01', '2022-02-01', '2021-06-01',\n",
       "       '2021-07-01', '2019-01-01', '2017-06-01', '2018-02-01',\n",
       "       '2018-03-01', '2017-03-01', '2017-04-01', '2018-09-01',\n",
       "       '2018-10-01', '2018-07-01', '2018-08-01', '2017-12-01',\n",
       "       '2018-01-01', '2022-01-01', '2021-03-01', '2022-05-01',\n",
       "       '2022-06-01', '2020-04-01', '2020-05-01', '2019-12-01',\n",
       "       '2020-06-01', '2020-07-01', '2019-10-01', '2019-11-01',\n",
       "       '2020-08-01', '2018-06-01', '2021-01-01', '2021-02-01',\n",
       "       '2019-09-01', '2019-05-01', '2017-05-01', '2021-05-01',\n",
       "       '2020-12-01', '2018-11-01', '2018-12-01', '2021-04-01',\n",
       "       '2019-06-01', '2017-11-01'], dtype=object)"
      ]
     },
     "execution_count": 4,
     "metadata": {},
     "output_type": "execute_result"
    }
   ],
   "source": [
    "dados['ano_atividade'].unique()"
   ]
  },
  {
   "cell_type": "code",
   "execution_count": 10,
   "metadata": {},
   "outputs": [],
   "source": [
    "dados = dados.loc[dados['ano_atividade']== '2022-10-01']"
   ]
  },
  {
   "cell_type": "code",
   "execution_count": 3,
   "metadata": {},
   "outputs": [
    {
     "data": {
      "text/plain": [
       "array([42, 43, 50, 51, 52, 11, 12, 13, 14, 15, 16, 17, 21, 22, 23, 24, 25,\n",
       "       26, 53, 27, 28, 29, 31, 32, 33, 35, 41], dtype=int64)"
      ]
     },
     "execution_count": 3,
     "metadata": {},
     "output_type": "execute_result"
    }
   ],
   "source": [
    "\n",
    "\"\"\"\"\n",
    "11\tRO\n",
    "12\tAC\n",
    "13\tAM\n",
    "14\tRR\n",
    "15\tPA\n",
    "16\tAP\n",
    "17\tTO\n",
    "21\tMA\n",
    "22\tPI\n",
    "23\tCE\n",
    "24\tRN\n",
    "25\tPB\n",
    "26\tPE\n",
    "27\tAL\n",
    "28\tSE\n",
    "29\tBA\n",
    "31\tMG\n",
    "32\tES\n",
    "33\tRJ\n",
    "35\tSP\n",
    "41\tPR\n",
    "42\tSC\n",
    "43\tRS\n",
    "50\tMS\n",
    "51\tMT\n",
    "52\tGO\n",
    "53\tDF\n",
    "\"\"\"\n",
    "dados['cod_uf'].unique()"
   ]
  },
  {
   "cell_type": "code",
   "execution_count": 11,
   "metadata": {},
   "outputs": [
    {
     "data": {
      "text/plain": [
       "33662"
      ]
     },
     "execution_count": 11,
     "metadata": {},
     "output_type": "execute_result"
    }
   ],
   "source": [
    "Estado = {'Estado': []}\n",
    "for i in dados['cod_uf']:\n",
    "    match i:\n",
    "        case 42:\n",
    "            Estado['Estado'].append('SC')\n",
    "        case\t43\t:\t\n",
    "            Estado['Estado'].append('RS')\n",
    "        case\t50\t:\t\n",
    "            Estado['Estado'].append('MS')\n",
    "        case\t51\t:\t\n",
    "            Estado['Estado'].append('MT')\n",
    "        case\t52\t:\t\n",
    "            Estado['Estado'].append('GO')\n",
    "        case\t11\t:\t\n",
    "            Estado['Estado'].append('RO')\n",
    "        case\t12\t:\t\n",
    "            Estado['Estado'].append('AC')\n",
    "        case\t13\t:\t\n",
    "            Estado['Estado'].append('AM')\n",
    "        case\t14\t:\t\n",
    "            Estado['Estado'].append('RR')\n",
    "        case\t15\t:\t\n",
    "            Estado['Estado'].append('PA')\n",
    "        case\t16\t:\t\n",
    "            Estado['Estado'].append('AP')\n",
    "        case\t17\t:\t\n",
    "            Estado['Estado'].append('TO')\n",
    "        case\t21\t:\t\n",
    "            Estado['Estado'].append('MA')\n",
    "        case\t22\t:\t\n",
    "            Estado['Estado'].append('PI')\n",
    "        case\t23\t:\t\n",
    "            Estado['Estado'].append('CE')\n",
    "        case\t24\t:\t\n",
    "            Estado['Estado'].append('RN')\n",
    "        case\t25\t:\t\n",
    "            Estado['Estado'].append('PB')\n",
    "        case\t26\t:\t\n",
    "            Estado['Estado'].append('PE')\n",
    "        case\t53\t:\t\n",
    "            Estado['Estado'].append('DF')\n",
    "        case\t27\t:\t\n",
    "            Estado['Estado'].append('AL')\n",
    "        case\t28\t:\t\n",
    "            Estado['Estado'].append('SE')\n",
    "        case\t29\t:\t\n",
    "            Estado['Estado'].append('BA')\n",
    "        case\t31\t:\t\n",
    "            Estado['Estado'].append('MG')\n",
    "        case\t32\t:\t\n",
    "            Estado['Estado'].append('ES')\n",
    "        case\t33\t:\t\n",
    "            Estado['Estado'].append('RJ')\n",
    "        case\t35\t:\t\n",
    "            Estado['Estado'].append('SP')\n",
    "        case\t41\t:\t\n",
    "            Estado['Estado'].append('PR')\n",
    "        \n",
    "len(Estado['Estado'])"
   ]
  },
  {
   "cell_type": "code",
   "execution_count": 12,
   "metadata": {},
   "outputs": [
    {
     "name": "stdout",
     "output_type": "stream",
     "text": [
      "<class 'pandas.core.frame.DataFrame'>\n",
      "Int64Index: 33662 entries, 6323 to 2156633\n",
      "Data columns (total 7 columns):\n",
      " #   Column         Non-Null Count  Dtype \n",
      "---  ------         --------------  ----- \n",
      " 0   codigo_ibge    33662 non-null  int64 \n",
      " 1   categoria      33662 non-null  int64 \n",
      " 2   cod_cnae       33662 non-null  int64 \n",
      " 3   ano_atividade  33662 non-null  object\n",
      " 4   cod_uf         33662 non-null  int64 \n",
      " 5   ativas         33662 non-null  int64 \n",
      " 6   mei            33662 non-null  int64 \n",
      "dtypes: int64(6), object(1)\n",
      "memory usage: 2.1+ MB\n"
     ]
    }
   ],
   "source": [
    "dados.info()"
   ]
  },
  {
   "cell_type": "code",
   "execution_count": 38,
   "metadata": {},
   "outputs": [
    {
     "data": {
      "text/plain": [
       "14532"
      ]
     },
     "execution_count": 38,
     "metadata": {},
     "output_type": "execute_result"
    }
   ],
   "source": [
    "cidades = {'cidades': []}\n",
    "for i in dados['codigo_ibge']:\n",
    "    if  i ==\t5107206\t:\t\n",
    "        cidades['cidades'].append(' RIO BRANCO')\n",
    "    elif i == \t3205309\t:\t\n",
    "        cidades['cidades'].append(' VITÓRIA')\n",
    "    elif i == \t2606200\t:\t\n",
    "        cidades['cidades'].append(' GOIANIA')\n",
    "    elif i == \t3550308\t:\t\n",
    "        cidades['cidades'].append(' SÃO PAULO')\n",
    "    elif i == \t3304557\t:\t\n",
    "        cidades['cidades'].append(' RIO DE JANEIRO')\n",
    "    elif i == \t3106200\t:\t\n",
    "        cidades['cidades'].append(' BELO HORIZONTE')\n",
    "    elif i == \t2800308\t:\t\n",
    "        cidades['cidades'].append(' ARACAJU')\n",
    "    elif i == \t2611606\t:\t\n",
    "        cidades['cidades'].append(' RECIFE')\n",
    "    elif i == \t2927408\t:\t\n",
    "        cidades['cidades'].append(' SALVADOR')\n",
    "    elif i == \t1302603\t:\t\n",
    "        cidades['cidades'].append(' MANAUS')\n",
    "    elif i == \t2700805\t:\t\n",
    "        cidades['cidades'].append(' BELEM')\n",
    "    elif i == \t4205407\t:\t\n",
    "        cidades['cidades'].append(' FLORIANÓPOLIS')\n",
    "    elif i == \t4106902\t:\t\n",
    "        cidades['cidades'].append(' CURITIBA')\n",
    "    elif i == \t4314902\t:\t\n",
    "        cidades['cidades'].append(' PORTO ALEGRE')\n",
    "    elif i == \t2111300\t:\t\n",
    "        cidades['cidades'].append(' SÃO LUIS')\n",
    "    elif i == \t1600303\t:\t\n",
    "        cidades['cidades'].append(' MACAPÁ')\n",
    "    elif i == \t2704302\t:\t\n",
    "        cidades['cidades'].append(' MACEIÓ')\n",
    "    elif i == \t2304400\t:\t\n",
    "        cidades['cidades'].append(' FORTALEZA')\n",
    "    elif i == \t5300108\t:\t\n",
    "        cidades['cidades'].append(' BRASÍLIA')\n",
    "    elif i == \t5103403\t:\t\n",
    "        cidades['cidades'].append(' CUIABÁ')\n",
    "    elif i == \t5002704\t:\t\n",
    "        cidades['cidades'].append(' CAMPO GRANDE')\n",
    "    elif i == \t2507507\t:\t\n",
    "        cidades['cidades'].append(' JOÃO PESSOA')\n",
    "    elif i == \t2211001\t:\t\n",
    "        cidades['cidades'].append(' TERESINA')\n",
    "    elif i == \t2408102\t:\t\n",
    "        cidades['cidades'].append(' NATAL')\n",
    "    elif i == \t1100205\t:\t\n",
    "        cidades['cidades'].append(' PORTO VELHO')\n",
    "    elif i == \t1721000\t:\t\n",
    "        cidades['cidades'].append(' PALMAS')\n",
    "    elif i == \t1400100\t:\t\n",
    "        cidades['cidades'].append(' BOA VISTA')\n",
    "    \n",
    "len(cidades['cidades'])"
   ]
  },
  {
   "cell_type": "code",
   "execution_count": 13,
   "metadata": {},
   "outputs": [
    {
     "data": {
      "text/plain": [
       "33662"
      ]
     },
     "execution_count": 13,
     "metadata": {},
     "output_type": "execute_result"
    }
   ],
   "source": [
    "estabelecimentos = {'estabelecimento': []}\n",
    "for i in dados['cod_cnae']:\n",
    "    if  i ==\t5611201\t:\t\n",
    "        estabelecimentos['estabelecimento'].append('Restaurantes e similares')\n",
    "    if  i == 5611203:\n",
    "        estabelecimentos['estabelecimento'].append('Lanchonetes casas de chá de sucos e similares')\n",
    "    if  i == 5611204: \n",
    "        estabelecimentos['estabelecimento'].append('Bares e outros estabelecimentos especializados em servir bebidas sem entretenimento')\n",
    "    if  i == 5611205: \n",
    "        estabelecimentos['estabelecimento'].append('Bares e outros estabelecimentos especializados em servir bebidas com entretenimento')\n",
    "len(estabelecimentos['estabelecimento'])"
   ]
  },
  {
   "cell_type": "code",
   "execution_count": 14,
   "metadata": {},
   "outputs": [
    {
     "name": "stderr",
     "output_type": "stream",
     "text": [
      "C:\\Users\\ABRASEL NACIONAL\\AppData\\Local\\Temp\\ipykernel_10856\\3658114035.py:1: SettingWithCopyWarning: \n",
      "A value is trying to be set on a copy of a slice from a DataFrame.\n",
      "Try using .loc[row_indexer,col_indexer] = value instead\n",
      "\n",
      "See the caveats in the documentation: https://pandas.pydata.org/pandas-docs/stable/user_guide/indexing.html#returning-a-view-versus-a-copy\n",
      "  dados['cidade'] = Estado['Estado']\n",
      "C:\\Users\\ABRASEL NACIONAL\\AppData\\Local\\Temp\\ipykernel_10856\\3658114035.py:2: SettingWithCopyWarning: \n",
      "A value is trying to be set on a copy of a slice from a DataFrame.\n",
      "Try using .loc[row_indexer,col_indexer] = value instead\n",
      "\n",
      "See the caveats in the documentation: https://pandas.pydata.org/pandas-docs/stable/user_guide/indexing.html#returning-a-view-versus-a-copy\n",
      "  dados['tipo_estabelecimento'] = estabelecimentos['estabelecimento']\n"
     ]
    }
   ],
   "source": [
    "dados['cidade'] = Estado['Estado']\n",
    "dados['tipo_estabelecimento'] = estabelecimentos['estabelecimento']"
   ]
  },
  {
   "cell_type": "code",
   "execution_count": 15,
   "metadata": {},
   "outputs": [
    {
     "data": {
      "text/html": [
       "<div>\n",
       "<style scoped>\n",
       "    .dataframe tbody tr th:only-of-type {\n",
       "        vertical-align: middle;\n",
       "    }\n",
       "\n",
       "    .dataframe tbody tr th {\n",
       "        vertical-align: top;\n",
       "    }\n",
       "\n",
       "    .dataframe thead th {\n",
       "        text-align: right;\n",
       "    }\n",
       "</style>\n",
       "<table border=\"1\" class=\"dataframe\">\n",
       "  <thead>\n",
       "    <tr style=\"text-align: right;\">\n",
       "      <th></th>\n",
       "      <th>codigo_ibge</th>\n",
       "      <th>categoria</th>\n",
       "      <th>cod_cnae</th>\n",
       "      <th>ano_atividade</th>\n",
       "      <th>cod_uf</th>\n",
       "      <th>ativas</th>\n",
       "      <th>mei</th>\n",
       "      <th>cidade</th>\n",
       "      <th>tipo_estabelecimento</th>\n",
       "    </tr>\n",
       "  </thead>\n",
       "  <tbody>\n",
       "    <tr>\n",
       "      <th>6323</th>\n",
       "      <td>2109809</td>\n",
       "      <td>5</td>\n",
       "      <td>5611203</td>\n",
       "      <td>2022-10-01</td>\n",
       "      <td>21</td>\n",
       "      <td>8</td>\n",
       "      <td>0</td>\n",
       "      <td>MA</td>\n",
       "      <td>Lanchonetes casas de chá de sucos e similares</td>\n",
       "    </tr>\n",
       "    <tr>\n",
       "      <th>6324</th>\n",
       "      <td>2110856</td>\n",
       "      <td>5</td>\n",
       "      <td>5611201</td>\n",
       "      <td>2022-10-01</td>\n",
       "      <td>21</td>\n",
       "      <td>6</td>\n",
       "      <td>1</td>\n",
       "      <td>MA</td>\n",
       "      <td>Restaurantes e similares</td>\n",
       "    </tr>\n",
       "    <tr>\n",
       "      <th>6325</th>\n",
       "      <td>2112704</td>\n",
       "      <td>5</td>\n",
       "      <td>5611204</td>\n",
       "      <td>2022-10-01</td>\n",
       "      <td>21</td>\n",
       "      <td>2</td>\n",
       "      <td>1</td>\n",
       "      <td>MA</td>\n",
       "      <td>Bares e outros estabelecimentos especializados...</td>\n",
       "    </tr>\n",
       "    <tr>\n",
       "      <th>6326</th>\n",
       "      <td>2200459</td>\n",
       "      <td>5</td>\n",
       "      <td>5611203</td>\n",
       "      <td>2022-10-01</td>\n",
       "      <td>22</td>\n",
       "      <td>12</td>\n",
       "      <td>1</td>\n",
       "      <td>PI</td>\n",
       "      <td>Lanchonetes casas de chá de sucos e similares</td>\n",
       "    </tr>\n",
       "    <tr>\n",
       "      <th>6327</th>\n",
       "      <td>2201002</td>\n",
       "      <td>5</td>\n",
       "      <td>5611203</td>\n",
       "      <td>2022-10-01</td>\n",
       "      <td>22</td>\n",
       "      <td>1</td>\n",
       "      <td>0</td>\n",
       "      <td>PI</td>\n",
       "      <td>Lanchonetes casas de chá de sucos e similares</td>\n",
       "    </tr>\n",
       "  </tbody>\n",
       "</table>\n",
       "</div>"
      ],
      "text/plain": [
       "      codigo_ibge  categoria  cod_cnae ano_atividade  cod_uf  ativas  mei  \\\n",
       "6323      2109809          5   5611203    2022-10-01      21       8    0   \n",
       "6324      2110856          5   5611201    2022-10-01      21       6    1   \n",
       "6325      2112704          5   5611204    2022-10-01      21       2    1   \n",
       "6326      2200459          5   5611203    2022-10-01      22      12    1   \n",
       "6327      2201002          5   5611203    2022-10-01      22       1    0   \n",
       "\n",
       "     cidade                               tipo_estabelecimento  \n",
       "6323     MA      Lanchonetes casas de chá de sucos e similares  \n",
       "6324     MA                           Restaurantes e similares  \n",
       "6325     MA  Bares e outros estabelecimentos especializados...  \n",
       "6326     PI      Lanchonetes casas de chá de sucos e similares  \n",
       "6327     PI      Lanchonetes casas de chá de sucos e similares  "
      ]
     },
     "execution_count": 15,
     "metadata": {},
     "output_type": "execute_result"
    }
   ],
   "source": [
    "dados.head()"
   ]
  },
  {
   "cell_type": "code",
   "execution_count": 17,
   "metadata": {},
   "outputs": [],
   "source": [
    "dados.to_excel('TODOSCNPJATIVOS_CNAES_E_ESTADOS.xlsx', index=False)"
   ]
  }
 ],
 "metadata": {
  "kernelspec": {
   "display_name": "Python 3.10.7 64-bit",
   "language": "python",
   "name": "python3"
  },
  "language_info": {
   "codemirror_mode": {
    "name": "ipython",
    "version": 3
   },
   "file_extension": ".py",
   "mimetype": "text/x-python",
   "name": "python",
   "nbconvert_exporter": "python",
   "pygments_lexer": "ipython3",
   "version": "3.10.7"
  },
  "orig_nbformat": 4,
  "vscode": {
   "interpreter": {
    "hash": "33b937bef43efa2a1535649a0ecede60f732469583961989e654da1c5a454a04"
   }
  }
 },
 "nbformat": 4,
 "nbformat_minor": 2
}
